{
 "cells": [
  {
   "cell_type": "code",
   "execution_count": 43,
   "metadata": {
    "collapsed": true
   },
   "outputs": [],
   "source": [
    "import os\n",
    "import backtrader as bt\n",
    "\n",
    "from btgym import BTgymEnv, BTgymDataset\n",
    "from btgym.strategy.observers import Reward, Position, NormPnL\n",
    "from btgym.algorithms import Launcher, A3C\n",
    "\n",
    "from btgym.research import DevStrat_4_6\n",
    "\n",
    "from btgym.algorithms.policy import Aac1dPolicy"
   ]
  },
  {
   "cell_type": "code",
   "execution_count": 48,
   "metadata": {
    "collapsed": true
   },
   "outputs": [],
   "source": [
    "MyCerebro = bt.Cerebro()\n",
    "\n",
    "MyCerebro.addstrategy(\n",
    "    DevStrat_4_6,\n",
    "    drawdown_call=5, # max % to loose, in percent of initial cash\n",
    "    target_call=10,  # max % to win, same\n",
    "    skip_frame=10,\n",
    ")\n",
    "# Set leveraged account:\n",
    "MyCerebro.broker.setcash(100000)\n",
    "brokerageCom = ((0.0001 +0.0000325)*0.18) + (0.0001 +0.0000325) + 0.00025 + 0.00002\n",
    "MyCerebro.broker.setcommission(commission=brokerageCom, leverage=10.0) # commisssion to imitate spread\n",
    "MyCerebro.addsizer(bt.sizers.SizerFix, stake=5000,) \n",
    "MyCerebro.broker.set_shortcash(False)\n",
    "\n",
    "#MyCerebro.addanalyzer(bt.analyzers.DrawDown)\n",
    "\n",
    "# Visualisations for reward, position and PnL dynamics:\n",
    "MyCerebro.addobserver(Reward)\n",
    "MyCerebro.addobserver(Position)\n",
    "MyCerebro.addobserver(NormPnL)\n",
    "\n",
    "MyDataset = BTgymDataset(\n",
    "    #filename='.data/DAT_ASCII_EURUSD_M1_201703.csv',\n",
    "    filename='btgym/examples/data/GMRINFRA.csv',\n",
    "#     filename='./data/testsine_1min_period256_delta0002.csv',\n",
    "    start_weekdays={0, 1, 2, 3},\n",
    "    episode_duration={'days': 0, 'hours': 23, 'minutes': 55},\n",
    "    start_00=False,\n",
    "    time_gap={'hours': 6},\n",
    ")\n"
   ]
  },
  {
   "cell_type": "code",
   "execution_count": 49,
   "metadata": {
    "collapsed": true
   },
   "outputs": [],
   "source": [
    "env_config = dict(\n",
    "    class_ref=BTgymEnv,\n",
    "    kwargs=dict(\n",
    "        dataset=MyDataset,\n",
    "        engine=MyCerebro,\n",
    "        render_modes=['episode', 'human','external'],\n",
    "        render_state_as_image=True,\n",
    "        render_ylabel='OHL_diff.',\n",
    "        render_size_episode=(12,8),\n",
    "        render_size_human=(9, 4),\n",
    "        render_size_state=(11, 3),\n",
    "        render_dpi=75,\n",
    "        port=5000,\n",
    "        data_port=4999,\n",
    "        verbose=0,  # better be 0\n",
    "    )\n",
    ")\n",
    "\n",
    "cluster_config = dict(\n",
    "    host='127.0.0.1',\n",
    "    port=12230,\n",
    "    num_workers=1,  # Set according CPU's available \n",
    "    num_ps=1,\n",
    "    num_envs=1,  # do not change yet\n",
    "    log_dir=os.path.expanduser('~/tmp/test_gym_a3c'),\n",
    ")\n",
    "\n",
    "policy_config = dict(\n",
    "    class_ref=Aac1dPolicy,\n",
    "    kwargs={}\n",
    ")\n",
    "\n",
    "trainer_config = dict(\n",
    "    class_ref=A3C,\n",
    "    kwargs=dict(\n",
    "        opt_learn_rate=[1e-4, 1e-4], # or random log-uniform range, values > 2e-4 can ruin training \n",
    "        opt_end_learn_rate=1e-5,\n",
    "        opt_decay_steps=100*10**6,\n",
    "        model_gamma=0.95,\n",
    "        model_gae_lambda=1.0,\n",
    "        model_beta=0.01, # Entropy reg\n",
    "        rollout_length=20,\n",
    "        time_flat=False,\n",
    "        model_summary_freq=100,\n",
    "        episode_summary_freq=5,\n",
    "        env_render_freq=20,\n",
    "    )\n",
    ")"
   ]
  },
  {
   "cell_type": "code",
   "execution_count": 51,
   "metadata": {},
   "outputs": [
    {
     "name": "stdout",
     "output_type": "stream",
     "text": [
      "[2018-02-26 17:56:52.458984] INFO: LauncherShell: Random seed: 0\n",
      "</home/s2c/tmp/test_gym_a3c> already exists. Override[y/n]? y\n",
      "[2018-02-26 17:56:54.379271] NOTICE: LauncherShell: Files in </home/s2c/tmp/test_gym_a3c> purged.\n",
      "[2018-02-26 17:56:54.884339] INFO: BTgymAPIshell_0: Custom Dataset class used.\n",
      "[2018-02-26 17:56:54.885125] INFO: BTgymAPIshell_0: Connecting data_server...\n",
      "[2018-02-26 17:56:54.934572] INFO: BTgymDataServer_0: PID: 28566\n",
      "[2018-02-26 17:56:55.092253] WARNING: SimpleDataSet_0: Found 1500 duplicated date_time records in <btgym/examples/data/GMRINFRA.csv>.                     Removed all but first occurrences.\n",
      "[2018-02-26 17:56:55.092925] INFO: SimpleDataSet_0: Loaded 14250 records from <btgym/examples/data/GMRINFRA.csv>.\n",
      "[2018-02-26 17:56:55.105763] INFO: SimpleDataSet_0: Data summary:\n",
      "               open          high           low         close        volume\n",
      "count  14250.000000  14250.000000  14250.000000  14250.000000  1.425000e+04\n",
      "mean      21.025211     21.062986     20.986754     21.024740  1.820040e+05\n",
      "std        1.917647      1.920727      1.916573      1.917241  2.990613e+05\n",
      "min       17.200000     17.250000     17.200000     17.200000  1.300000e+01\n",
      "25%       19.450000     19.450000     19.400000     19.450000  2.617100e+04\n",
      "50%       21.500000     21.500000     21.450000     21.450000  8.340150e+04\n",
      "75%       22.500000     22.500000     22.450000     22.500000  2.207120e+05\n",
      "max       24.950000     25.000000     24.800000     24.950000  5.662687e+06\n",
      "[2018-02-26 17:56:55.937473] INFO: BTgymAPIshell_0: ...done.\n",
      "[2018-02-26 17:56:55.938654] INFO: BTgymAPIshell_0: Custom Cerebro class used.\n",
      "[2018-02-26 17:56:56.031418] INFO: BTgymServer_0: PID: 28587\n",
      "[2018-02-26 17:56:57.031970] INFO: BTgymAPIshell_0: Server started, pinging tcp://127.0.0.1:5000 ...\n",
      "[2018-02-26 17:56:57.036339] INFO: BTgymAPIshell_0: Server seems ready with response: <{'ctrl': 'send control keys: <_reset>, <_getstat>, <_render>, <_stop>.'}>\n",
      "[2018-02-26 17:56:57.038702] INFO: BTgymAPIshell_0: Environment is ready.\n",
      "[2018-02-26 17:56:57.041115] INFO: Worker_0: set BTGym environment 0 at port_5000.\n",
      "[2018-02-26 17:56:57.046931] NOTICE: A3C_0: learn_rate: 0.000100, entropy_beta: 0.010000\n",
      "WARNING:tensorflow:From /home/s2c/go/src/kite-go/btgym/btgym/algorithms/worker.py:244: Supervisor.__init__ (from tensorflow.python.training.supervisor) is deprecated and will be removed in a future version.\n",
      "Instructions for updating:\n",
      "Please switch to tf.train.MonitoredTrainingSession\n"
     ]
    },
    {
     "name": "stderr",
     "output_type": "stream",
     "text": [
      "WARNING:tensorflow:From /home/s2c/go/src/kite-go/btgym/btgym/algorithms/worker.py:244: Supervisor.__init__ (from tensorflow.python.training.supervisor) is deprecated and will be removed in a future version.\n",
      "Instructions for updating:\n",
      "Please switch to tf.train.MonitoredTrainingSession\n"
     ]
    },
    {
     "name": "stdout",
     "output_type": "stream",
     "text": [
      "[2018-02-26 17:56:59.138276] INFO: Worker_0: connecting to the parameter server... \n",
      "[2018-02-26 17:56:59.307600] INFO: Worker_0: initializing all parameters.\n",
      "\n",
      "********************************************************************************************\n",
      "**  Press `Ctrl-C` or jupyter:[Kernel]->[Interrupt] to stop training and close launcher.  **\n",
      "********************************************************************************************\n",
      "\n",
      "INFO:tensorflow:Starting standard services.\n"
     ]
    },
    {
     "name": "stderr",
     "output_type": "stream",
     "text": [
      "INFO:tensorflow:Starting standard services.\n"
     ]
    },
    {
     "name": "stdout",
     "output_type": "stream",
     "text": [
      "INFO:tensorflow:Saving checkpoint to path /home/s2c/tmp/test_gym_a3c/train/model.ckpt\n"
     ]
    },
    {
     "name": "stderr",
     "output_type": "stream",
     "text": [
      "INFO:tensorflow:Saving checkpoint to path /home/s2c/tmp/test_gym_a3c/train/model.ckpt\n"
     ]
    },
    {
     "name": "stdout",
     "output_type": "stream",
     "text": [
      "INFO:tensorflow:Starting queue runners.\n"
     ]
    },
    {
     "name": "stderr",
     "output_type": "stream",
     "text": [
      "INFO:tensorflow:Starting queue runners.\n"
     ]
    },
    {
     "name": "stdout",
     "output_type": "stream",
     "text": [
      "INFO:tensorflow:global/global_step/sec: 0\n"
     ]
    },
    {
     "name": "stderr",
     "output_type": "stream",
     "text": [
      "INFO:tensorflow:global/global_step/sec: 0\n"
     ]
    },
    {
     "name": "stdout",
     "output_type": "stream",
     "text": [
      "[2018-02-26 17:57:00.718472] INFO: BTgymAPIshell_0: Data domain `reset()` called prior to `reset_data()` with [possibly inconsistent] defaults.\n",
      "[2018-02-26 17:57:00.726447] NOTICE: Worker_0: started training at step: 0\n",
      "[2018-02-26 17:57:00.758128] ERROR: SimpleDataSet_0: Quitting after 101 sampling attempts.Hint: check sampling params / dataset consistency.\n"
     ]
    },
    {
     "name": "stderr",
     "output_type": "stream",
     "text": [
      "Process BTgymDataFeedServer-57:1:\n",
      "Traceback (most recent call last):\n",
      "  File \"/home/s2c/anaconda3/envs/AlgoTrading/lib/python3.6/multiprocessing/process.py\", line 249, in _bootstrap\n",
      "    self.run()\n",
      "  File \"/home/s2c/go/src/kite-go/btgym/btgym/dataserver.py\", line 155, in run\n",
      "    self.get_data()\n",
      "  File \"/home/s2c/go/src/kite-go/btgym/btgym/dataserver.py\", line 94, in get_data\n",
      "    self.pre_sample = self.dataset.sample(**self.pre_sample_config)\n",
      "  File \"/home/s2c/go/src/kite-go/btgym/btgym/datafeed/base.py\", line 454, in sample\n",
      "    return self._sample(**kwargs)\n",
      "  File \"/home/s2c/go/src/kite-go/btgym/btgym/datafeed/base.py\", line 508, in _sample\n",
      "    name='train_' + self.sample_name\n",
      "  File \"/home/s2c/go/src/kite-go/btgym/btgym/datafeed/base.py\", line 756, in _sample_interval\n",
      "    raise RuntimeError(msg)\n",
      "RuntimeError: Quitting after 101 sampling attempts.Hint: check sampling params / dataset consistency.\n"
     ]
    },
    {
     "name": "stdout",
     "output_type": "stream",
     "text": [
      "[2018-02-26 17:58:00.742866] ERROR: BTgymServer_0: BtgymServer_sampling_attempt: data_server unreachable with status: <receive_failed_due_to_connect_timeout>.\n"
     ]
    },
    {
     "name": "stderr",
     "output_type": "stream",
     "text": [
      "Process BTgymServer-57:2:\n",
      "Traceback (most recent call last):\n",
      "  File \"/home/s2c/anaconda3/envs/AlgoTrading/lib/python3.6/multiprocessing/process.py\", line 249, in _bootstrap\n",
      "    self.run()\n",
      "  File \"/home/s2c/go/src/kite-go/btgym/btgym/server.py\", line 498, in run\n",
      "    trial_sample, trial_stat, dataset_stat = self.get_data(**sample_config['trial_config'])\n",
      "  File \"/home/s2c/go/src/kite-go/btgym/btgym/server.py\", line 305, in get_data\n",
      "    raise ConnectionError(msg)\n",
      "ConnectionError: BtgymServer_sampling_attempt: data_server unreachable with status: <receive_failed_due_to_connect_timeout>.\n"
     ]
    },
    {
     "name": "stdout",
     "output_type": "stream",
     "text": [
      "[2018-02-26 17:58:00.778611] ERROR: BTgymAPIshell_0: .step(): server unreachable with status: <receive_failed_due_to_connect_timeout>.\n",
      "[2018-02-26 17:58:00.779290] ERROR: ThreadRunner_0: RunTime exception occurred.\n",
      "\n",
      "Press `Ctrl-C` or jupyter:[Kernel]->[Interrupt] for clean exit.\n",
      "\n",
      "Traceback (most recent call last):\n",
      "  File \"/home/s2c/go/src/kite-go/btgym/btgym/algorithms/runner/threadrunner.py\", line 91, in run\n",
      "    self._run()\n",
      "  File \"/home/s2c/go/src/kite-go/btgym/btgym/algorithms/runner/threadrunner.py\", line 118, in _run\n",
      "    self.queue.put(next(rollout_provider), timeout=600.0)\n",
      "  File \"/home/s2c/go/src/kite-go/btgym/btgym/algorithms/runner/base.py\", line 45, in BaseEnvRunnerFn\n",
      "    last_state = env.reset(**policy.get_sample_config())\n",
      "  File \"/home/s2c/go/src/kite-go/btgym/btgym/envs/backtrader.py\", line 667, in reset\n",
      "    self.env_response = self.step(0)\n",
      "  File \"/home/s2c/go/src/kite-go/btgym/btgym/envs/backtrader.py\", line 753, in step\n",
      "    raise ConnectionError(msg)\n",
      "ConnectionError: .step(): server unreachable with status: <receive_failed_due_to_connect_timeout>.\n"
     ]
    },
    {
     "name": "stderr",
     "output_type": "stream",
     "text": [
      "Exception in thread Thread-4:\n",
      "Traceback (most recent call last):\n",
      "  File \"/home/s2c/go/src/kite-go/btgym/btgym/algorithms/runner/threadrunner.py\", line 91, in run\n",
      "    self._run()\n",
      "  File \"/home/s2c/go/src/kite-go/btgym/btgym/algorithms/runner/threadrunner.py\", line 118, in _run\n",
      "    self.queue.put(next(rollout_provider), timeout=600.0)\n",
      "  File \"/home/s2c/go/src/kite-go/btgym/btgym/algorithms/runner/base.py\", line 45, in BaseEnvRunnerFn\n",
      "    last_state = env.reset(**policy.get_sample_config())\n",
      "  File \"/home/s2c/go/src/kite-go/btgym/btgym/envs/backtrader.py\", line 667, in reset\n",
      "    self.env_response = self.step(0)\n",
      "  File \"/home/s2c/go/src/kite-go/btgym/btgym/envs/backtrader.py\", line 753, in step\n",
      "    raise ConnectionError(msg)\n",
      "ConnectionError: .step(): server unreachable with status: <receive_failed_due_to_connect_timeout>.\n",
      "\n",
      "During handling of the above exception, another exception occurred:\n",
      "\n",
      "Traceback (most recent call last):\n",
      "  File \"/home/s2c/anaconda3/envs/AlgoTrading/lib/python3.6/threading.py\", line 916, in _bootstrap_inner\n",
      "    self.run()\n",
      "  File \"/home/s2c/go/src/kite-go/btgym/btgym/algorithms/runner/threadrunner.py\", line 96, in run\n",
      "    raise RuntimeError\n",
      "RuntimeError\n",
      "\n"
     ]
    },
    {
     "name": "stdout",
     "output_type": "stream",
     "text": [
      "[2018-02-26 17:58:52.524081] NOTICE: LauncherShell: chief_worker_0 has joined.\n",
      "[2018-02-26 17:58:52.524680] NOTICE: LauncherShell: parameter_server_0 has joined.\n",
      "[2018-02-26 17:58:52.525136] NOTICE: LauncherShell: Launcher closed.\n"
     ]
    }
   ],
   "source": [
    "launcher = Launcher(\n",
    "    cluster_config=cluster_config,\n",
    "    env_config=env_config,\n",
    "    trainer_config=trainer_config,\n",
    "    policy_config=policy_config,\n",
    "    test_mode=False,\n",
    "    max_env_steps=100*10**6,\n",
    "    root_random_seed=0,\n",
    "    purge_previous=1,  # ask to override previously saved model and logs\n",
    "    verbose=1  # 0 or 1\n",
    ")\n",
    "\n",
    "# Train it:\n",
    "launcher.run()"
   ]
  },
  {
   "cell_type": "code",
   "execution_count": null,
   "metadata": {
    "collapsed": true
   },
   "outputs": [],
   "source": []
  }
 ],
 "metadata": {
  "kernelspec": {
   "display_name": "Python [conda env:AlgoTrading]",
   "language": "python",
   "name": "conda-env-AlgoTrading-py"
  },
  "language_info": {
   "codemirror_mode": {
    "name": "ipython",
    "version": 3
   },
   "file_extension": ".py",
   "mimetype": "text/x-python",
   "name": "python",
   "nbconvert_exporter": "python",
   "pygments_lexer": "ipython3",
   "version": "3.6.2"
  }
 },
 "nbformat": 4,
 "nbformat_minor": 2
}
