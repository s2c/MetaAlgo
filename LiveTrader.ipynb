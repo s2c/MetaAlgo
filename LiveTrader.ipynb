{
 "cells": [
  {
   "cell_type": "code",
   "execution_count": 44,
   "metadata": {},
   "outputs": [
    {
     "name": "stdout",
     "output_type": "stream",
     "text": [
      "Here\n",
      "ZN9243 has logged in\n",
      "Here\n",
      "[3463169, 2933761, 3375873]\n"
     ]
    }
   ],
   "source": [
    "from kiteconnect import KiteConnect\n",
    "import datetime as dt\n",
    "from time import sleep\n",
    "import pytz\n",
    "import numpy as np\n",
    "import pandas as pd\n",
    "import sklearn.preprocessing as skp\n",
    "import json\n",
    "from helper import *\n",
    "from keras.models import load_model\n",
    "from pythonLib.layer_utils import AttentionLSTM\n",
    "from pythonLib.helper import *\n",
    "\n",
    "# Log in to Kite\n",
    "vals = json.load(open('config.json')) # read the config\n",
    "kite = KiteConnect(api_key=vals['API_KEY']) #\n",
    "\n",
    "print(\"Here\")              \n",
    "try:\n",
    "    user = kite.generate_session(vals['REQ_TOKEN'], api_secret=vals['API_SECRET'])\n",
    "except Exception as e:\n",
    "    print(\"Authentication failed\", str(e))\n",
    "    raise\n",
    "\n",
    "print(user[\"user_id\"], \"has logged in\") # connected to API                  \n",
    "\n",
    "instFile = \"instruments.csv\" # location of the instrument list for current instruments\n",
    "curInstList = \"tradeList.txt\" # location of all instruments currently being traded\n",
    "spreadsFile = \"spreads.txt\" \n",
    "spreadList = pd.read_csv(spreadsFile,header=None).values\n",
    "stockList = [] # list\n",
    "\n",
    "with open (curInstList) as f: #populate list of all current stocks\n",
    "    i = 0\n",
    "    for each_csv in f:\n",
    "        each_csv = each_csv.rstrip('\\n') # read csv\n",
    "        curTicker = each_csv # store ticker\n",
    "        stockList.append(curTicker)\n",
    "        i+=1\n",
    "        if i > 2: # first 3 stocks for now\n",
    "            break\n",
    "print(\"Here\")\n",
    "buyModels = [] # list of buy models\n",
    "sellModels = [] # list of sell Models\n",
    "instTokens = [] # All the instrument tokens\n",
    "lags = []   #all the lags\n",
    "historiesPrices = [] # shape = (stock,cost,vols)\n",
    "historiesVols = []\n",
    "\n",
    "#Load some of the bsaics\n",
    "for i,curStock in enumerate(stockList):\n",
    "    # print(curStock)\n",
    "    buyModel = load_model('modelsFin/%sbuyModel.h5' % curStock, custom_objects={'AttentionLSTM': AttentionLSTM}) # load the buy model\n",
    "    sellModel = load_model('modelsFin/%ssellModel.h5' % curStock, custom_objects={'AttentionLSTM': AttentionLSTM})\n",
    "    currLag = int(buyModel.layers[0].input.shape[1]) # get how much lag is being used based on the input to the model\n",
    "    curInstr = findInstToken(curStock, instFile)\n",
    "    buyModels.append(buyModel)\n",
    "    sellModels.append(sellModel)\n",
    "    instTokens.append(curInstr)\n",
    "    lags.append(currLag)\n",
    "    historiesPrices.append(np.zeros(currLag))\n",
    "    historiesVols.append(np.zeros(currLag))\n",
    "print(instTokens)\n",
    "# curVol = np.zeros(len("
   ]
  },
  {
   "cell_type": "code",
   "execution_count": 45,
   "metadata": {},
   "outputs": [
    {
     "name": "stdout",
     "output_type": "stream",
     "text": [
      "ZN9243 has logged in\n"
     ]
    }
   ],
   "source": [
    "print(user[\"user_id\"], \"has logged in\") # connected to API\n",
    "\n"
   ]
  },
  {
   "cell_type": "code",
   "execution_count": 4,
   "metadata": {
    "collapsed": true
   },
   "outputs": [],
   "source": [
    "def buyOrd(kiteCli,tSymbol,price,sqVal,stpVal,quant):\n",
    "    order = kiteCli.place_order(tradingsymbol = tSymbol,\n",
    "                                    exchange = kite.EXCHANGE_NSE,\n",
    "                                    quantity = int(quant),\n",
    "                                    transaction_type = kite.TRANSACTION_TYPE_BUY,\n",
    "                                    product = kite.PRODUCT_MIS,\n",
    "                                    order_type =  kite.ORDER_TYPE_LIMIT,\n",
    "                                    price = float(price),\n",
    "                                    squareoff = sqVal,\n",
    "                                    stoploss =  stpVal,\n",
    "                                    variety = kite.VARIETY_BO,\n",
    "                                    validity = kite.VALIDITY_DAY,\n",
    "                                    disclosed_quantity = int(quant/10))\n",
    "    return order\n",
    "\n",
    "def sellOrd(kiteCli,tSymbol,price,sqVal,stpVal,quant):\n",
    "    order = kiteCli.place_order(tradingsymbol = tSymbol,\n",
    "                                    exchange = kite.EXCHANGE_NSE,\n",
    "                                    quantity = int(quant),\n",
    "                                    transaction_type = kite.TRANSACTION_TYPE_SELL,\n",
    "                                    product = kite.PRODUCT_MIS,\n",
    "                                    order_type = kite.ORDER_TYPE_LIMIT,\n",
    "                                    squareoff = sqVal,\n",
    "                                    stoploss = stpVal,\n",
    "                                    variety = kite.VARIETY_BO,\n",
    "                                    price = float(price),\n",
    "                                    validity = kite.VALIDITY_DAY,\n",
    "                                    disclosed_quantity = int(quant/10))\n",
    "    return order\n",
    "\n"
   ]
  },
  {
   "cell_type": "code",
   "execution_count": 75,
   "metadata": {
    "collapsed": true
   },
   "outputs": [],
   "source": [
    "def placeOrder(kiteCli,instToken,bMod,sMod,curStock,lag,spreads):\n",
    "    \"\"\"kiteCli = kite client\n",
    "    historiesPrices = price history\n",
    "    historiesVols = volume history\n",
    "    curStock = trading Symbol of current stock\n",
    "    lag = lag of stock\n",
    "    spreads = list of [sqVal,stpVal,quant]\n",
    "    \"\"\"\n",
    "    history = kiteCli.historical_data(instToken, \n",
    "                                      str(dt.datetime.now().date() - dt.timedelta(days=1)),\n",
    "                                      str(dt.datetime.now().date() + dt.timedelta(days=1)), \"minute\", continuous=False)\n",
    "\n",
    "    curr = h[-45:]\n",
    "    historiesPrices = np.array([x['close'] for x in curr])\n",
    "    historiesVols = np.array([x['volume'] for x in curr] )\n",
    "    print(dt.datetime.now())\n",
    "    print(historiesPrices)\n",
    "    print(historiesVols)\n",
    "    close = skp.minmax_scale(historiesPrices)\n",
    "    vols = skp.minmax_scale(historiesVols)\n",
    "    data = np.zeros((1,lag,2))\n",
    "    data[0,:,0] = close\n",
    "    data[0,:,1] = vols\n",
    "    buyProb = bMod.predict([data,data])[0][0] \n",
    "    sellProb = sMod.predict([data,data])[0][0]\n",
    "    # print(spreads)\n",
    "    sqVal = spreads[0]\n",
    "    stpVal = spreads[1]\n",
    "    quant = spreads[2]\n",
    "    bHigh = spreads[3]\n",
    "    bLow = spreads[4]\n",
    "    sHigh = spreads[5]\n",
    "    sLow = spreads[6]\n",
    "    print(\"BuyProb = %.2f Sellprob = %.2f\" % (buyProb,sellProb))\n",
    "    if buyProb > bHigh and sellProb < bLow: # if buy probability is greater than 0.6\n",
    "        print(\"Buyprob greater than %.2f at %.2f and SellProb less than %.2f at %.2f\" % (bHigh,buyProb,bLow,sellProb))\n",
    "        print(\"Buying\")\n",
    "        orderId =  buyOrd(kiteCli,curStock,historiesPrices[-1],sqVal,stpVal,quant) # place a buy order\n",
    "\n",
    "    elif sellProb > sHigh and buyProb < sLow:\n",
    "        print(\"SellProb greater than %.2f at %.2f and Buyprob less than %.2f at %.2f\" % (sHigh,sellProb,sLow,buyProb))\n",
    "        print(\"Selling  \")\n",
    "        orderId =  sellOrd(kiteCli,curStock,historiesPrices[-1],sqVal,stpVal,quant) # place a sell order\n",
    "    else:\n",
    "        print(\"No probabilities greater than thresholds, skipping\")\n",
    "    sleep(1)\n",
    "    return history"
   ]
  },
  {
   "cell_type": "code",
   "execution_count": 76,
   "metadata": {},
   "outputs": [
    {
     "name": "stdout",
     "output_type": "stream",
     "text": [
      "GMRINFRA\n",
      "2018-02-21 23:31:52.786661\n",
      "[ 27.85  27.9   27.85  27.9   27.9   27.9   27.85  27.9   27.85  27.85\n",
      "  27.85  27.9   27.85  27.85  27.85  27.85  27.85  27.9   27.85  27.85\n",
      "  27.95  27.95  27.95  27.95  28.    27.95  28.1   28.15  28.15  28.2\n",
      "  28.15  28.1   28.1   28.1   28.1   28.1   28.1   28.05  28.05  28.1   28.1\n",
      "  28.05  28.05  28.05  28.15]\n",
      "[ 89566  22895  28590  23150  14771  59159 234164  69679  16897   8325\n",
      "  14840   5391  88956   5024  19026  14969  12893   1219  75254  12077\n",
      " 130478  32527  17221 273072 432109 110730 491804 460586 288293 474658\n",
      " 476541 232075 162229 126792 208175  15187 104330 118641  25415 204688\n",
      "  48494  58315  99567  51736  71774]\n",
      "BuyProb = 0.70 Sellprob = 0.74\n",
      "No probabilities greater than thresholds, skipping\n"
     ]
    },
    {
     "name": "stderr",
     "output_type": "stream",
     "text": [
      "/home/s2c/anaconda3/envs/AlgoTrading/lib/python3.6/site-packages/sklearn/utils/validation.py:444: DataConversionWarning: Data with input dtype int64 was converted to float64.\n",
      "  warnings.warn(msg, DataConversionWarning)\n"
     ]
    },
    {
     "name": "stdout",
     "output_type": "stream",
     "text": [
      "JPASSOCIAT\n",
      "2018-02-21 23:31:54.092927\n",
      "[ 17.6   17.6   17.55  17.55  17.55  17.55  17.6   17.55  17.6   17.55\n",
      "  17.6   17.55  17.55  17.6   17.6   17.55  17.55  17.55  17.5   17.5   17.5\n",
      "  17.5   17.55  17.5   17.5   17.55  17.55  17.5   17.55  17.55  17.55\n",
      "  17.6   17.6   17.65  17.6   17.65  17.65  17.55  17.6   17.55  17.55\n",
      "  17.6   17.55  17.55  17.6 ]\n",
      "[226527  19417   1659  24959   2525  15240   6114   4575   2711    854\n",
      "  14106  11723   4738   2021   6081 313225  17090   1503   6864   8268\n",
      "  24215   8090 140407  18990  60490  19774  63460  22299  17265 184283\n",
      " 138665 145644   4755 322213   6990  19356  13600 181158    704   5339\n",
      "   3139  12017  40321   4589 158816]\n",
      "BuyProb = 0.06 Sellprob = 0.21\n",
      "No probabilities greater than thresholds, skipping\n",
      "RCOM\n",
      "2018-02-21 23:31:55.390839\n",
      "[ 16.55  16.55  16.55  16.5   16.5   16.55  16.55  16.5   16.5   16.55\n",
      "  16.55  16.5   16.5   16.5   16.55  16.5   16.5   16.5   16.45  16.45\n",
      "  16.5   16.5   16.5   16.55  16.5   16.5   16.55  16.55  16.5   16.6\n",
      "  16.65  16.65  16.65  16.65  16.65  16.6   16.6   16.6   16.6   16.55\n",
      "  16.55  16.55  16.55  16.55  16.6 ]\n",
      "[  73977    1318    1679   41340   37881    1504   11766   41302    6070\n",
      "    2362   12169    8826   39000   14232   13753    9703   60844    5870\n",
      "   63694   41500    1571    1336   35838    9080   13725    2031    7674\n",
      "    4580   13707 1075734  268540  146452   41320  166063   29791   25101\n",
      "    7384   40129  225292   12844   15821    8851   35561    4988    7004]\n",
      "BuyProb = 0.02 Sellprob = 0.30\n",
      "No probabilities greater than thresholds, skipping\n"
     ]
    }
   ],
   "source": [
    "while int(dt.datetime.now(pytz.timezone('Asia/Kolkata')).hour) < 15: # Last order goes in at 2 PM\n",
    "    spreadList = pd.read_csv(spreadsFile,header=None).values # Maybe not needed every minute, we'll see\n",
    "    for i,curStock in enumerate(stockList):\n",
    "        print(curStock)\n",
    "        h = placeOrder(kite,instTokens[i],\n",
    "                   buyModels[i],sellModels[i],curStock,lags[i],spreadList[i])\n",
    "    break"
   ]
  },
  {
   "cell_type": "code",
   "execution_count": null,
   "metadata": {
    "collapsed": true
   },
   "outputs": [],
   "source": []
  }
 ],
 "metadata": {
  "kernelspec": {
   "display_name": "Python [conda env:AlgoTrading]",
   "language": "python",
   "name": "conda-env-AlgoTrading-py"
  },
  "language_info": {
   "codemirror_mode": {
    "name": "ipython",
    "version": 3
   },
   "file_extension": ".py",
   "mimetype": "text/x-python",
   "name": "python",
   "nbconvert_exporter": "python",
   "pygments_lexer": "ipython3",
   "version": "3.6.2"
  }
 },
 "nbformat": 4,
 "nbformat_minor": 2
}
