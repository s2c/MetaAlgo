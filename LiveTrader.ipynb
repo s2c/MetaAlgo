{
 "cells": [
  {
   "cell_type": "code",
   "execution_count": 1,
   "metadata": {},
   "outputs": [
    {
     "name": "stderr",
     "output_type": "stream",
     "text": [
      "Using TensorFlow backend.\n"
     ]
    }
   ],
   "source": [
    "from kiteconnect import KiteConnect\n",
    "import datetime as dt\n",
    "from time import sleep\n",
    "import pytz\n",
    "import numpy as np\n",
    "import json\n",
    "import paho.mqtt.client as mqtt\n",
    "import sklearn.preprocessing as skp\n",
    "from keras.models import load_model\n"
   ]
  },
  {
   "cell_type": "code",
   "execution_count": 2,
   "metadata": {},
   "outputs": [
    {
     "name": "stdout",
     "output_type": "stream",
     "text": [
      "ZN9243 has logged in\n"
     ]
    }
   ],
   "source": [
    "lastPrice = \"\" # global variable that is updated with the last price every minute\n",
    "buyModel = load_model('buyModel.h5') # load the buy model\n",
    "sellModel = load_model('sellModel.h5') # load the sell model\n",
    "lag = int(buyModel.layers[0].input.shape[1]) # get how much lag is being used based on the input to the model\n",
    "hist = np.zeros(lag)\n",
    "curInstr = 3076609\n",
    "\n",
    "\n",
    "vals = json.load(open('config.json'))\n",
    "kite = KiteConnect(api_key=vals['API_KEY'])\n",
    "                   \n",
    "try:\n",
    "    user = kite.request_access_token(request_token=vals['REQ_TOKEN'],\n",
    "                                            secret=vals['API_SECRET'])\n",
    "    kite.set_access_token(user[\"access_token\"])\n",
    "except Exception as e:\n",
    "    print(\"Authentication failed\", str(e))\n",
    "    raise\n",
    "                   \n",
    "print(user[\"user_id\"], \"has logged in\")"
   ]
  },
  {
   "cell_type": "code",
   "execution_count": 3,
   "metadata": {},
   "outputs": [],
   "source": [
    "def on_connect(client, userdata, flags, rc): \n",
    "    client.subscribe(\"priceData\")\n",
    "\n",
    "def on_disconnect(client, userdata, rc):\n",
    "    if rc != 0 :\n",
    "        try:\n",
    "            client.reconnect()\n",
    "        except:\n",
    "            print(\"Couldn't Reconnect\")\n",
    "\n",
    "\n",
    "# The callback for when a PUBLISH message is received from the server.\n",
    "def on_message(client, userdata, message):\n",
    "    global lastPrice\n",
    "    lastPrice = message # update lastPrice\n",
    "    client.loop_stop()\n",
    "\n",
    "def updateLastPrice():\n",
    "    client = mqtt.Client() # connect\n",
    "    client.on_connect = on_connect # print connected callback\n",
    "    client.on_message = on_message # update message callback\n",
    "    client.connect(\"localhost\", 1883, 60)\n",
    "    client.loop_start()\n",
    "    sleep(0.1)\n"
   ]
  },
  {
   "cell_type": "code",
   "execution_count": 4,
   "metadata": {},
   "outputs": [],
   "source": [
    "# To start off build the first 30 minutes of history\n",
    "print(\"Building first 30 minute history\")\n",
    "for i in range(0,30):\n",
    "    updateLastPrice()\n",
    "    x = json.loads(lastPrice.payload.decode('utf-8'))\n",
    "    if x['instrument_token'] == curInstr and x['tradeable'] == True:\n",
    "        hist[i] = x['last_price']\n",
    "    else:\n",
    "        print(\"ERROR, ERROR, CONTACT SUPERVISOR\")\n",
    "        \n",
    "    sleep(60) # sleep for 60 seconds so we get the price after a minute \n",
    "\n",
    "print (\"History built\")"
   ]
  },
  {
   "cell_type": "code",
   "execution_count": 16,
   "metadata": {},
   "outputs": [],
   "source": [
    "def placeOrder(kiteCli,hist,bMod,sMod,tSymbol):\n",
    "    histScaled = skp.scale(hist)\n",
    "    histScaled = histScaled.reshape(1,-1,1) # create scaled version for keras\n",
    "    waitT = 0# wait for it to complete       \n",
    "    if bMod.predict([histScaled,histScaled]) > 0.5: # if buy probability is greater than 0.5\n",
    "        orderId =  buyOrd(kiteCli,tSymbol,hist[-1],1) # place a buy order\n",
    "        while ((kite.orders(orderId)[-1]['status']) != \"COMPLETE\") and waitT < 30: # wait upto 30 seconds\n",
    "            sleep(1)\n",
    "            waitT += 1\n",
    "        if kite.orders(orderID)[-1]['status'] ==\"COMPLETE\" : # when completed\n",
    "            orderId =  sellOrd(kiteCli,tSymbol,hist[-1]+0.05,1) # place the corresponding sell order\n",
    "        else:\n",
    "            print(\"FAILED\")\n",
    "        \n",
    "    elif sMod.predict([histScaled,histScaled]) > 0.5:\n",
    "        orderId =  sellOrd(kiteCli,tSymbol,hist[-1],1) # place a sell order\n",
    "        while ((kite.orders(orderId)[-1]['status']) != \"COMPLETE\") and waitT < 30: # wait upto 30 seconds\n",
    "            sleep(1)\n",
    "            waitT += 1\n",
    "        if kite.orders(orderID)[-1]['status'] ==\"COMPLETE\" : # when completed\n",
    "            orderId =  buyOrd(kiteCli,tSymbol,hist[-1]-0.05,1) # place the corresponding sell order\n",
    "        else:\n",
    "            print(\"FAILED\")\n",
    "    \n",
    "    return waitT\n",
    "    \n",
    "    "
   ]
  },
  {
   "cell_type": "code",
   "execution_count": 17,
   "metadata": {
    "collapsed": true
   },
   "outputs": [],
   "source": [
    "def buyOrd(kiteCli,tSymbol,price,quant):\n",
    "    order = kiteCli.order_place(tradingsymbol = tSymbol,\n",
    "                                    exchange = \"NSE\",\n",
    "                                    quantity = quant,\n",
    "                                    transaction_type = \"BUY\",\n",
    "                                    product = \"MIS\",\n",
    "                                    order_type = \"LIMIT\",\n",
    "                                    price = price,\n",
    "                                    validity = \"DAY\")\n",
    "    return order\n",
    "\n",
    "def sellOrd(kiteCli,hist,tSymbol,price,quant):\n",
    "    order = kiteCli.order_place(tradingsymbol = tSymbol,\n",
    "                                    exchange = \"NSE\",\n",
    "                                    quantity = 1,\n",
    "                                    transaction_type = \"SELL\",\n",
    "                                    product = \"MIS\",\n",
    "                                    order_type = \"LIMIT\",\n",
    "                                    price = hist[-1],\n",
    "                                    validity = \"DAY\")\n",
    "    return order"
   ]
  },
  {
   "cell_type": "code",
   "execution_count": 20,
   "metadata": {},
   "outputs": [
    {
     "name": "stdout",
     "output_type": "stream",
     "text": [
      "Starting Trading Engine\n",
      "TRADE DAY IS OVER\n"
     ]
    }
   ],
   "source": [
    "\n",
    "tSymbol = \"SUZLON\"\n",
    "print(\"Starting Trading Engine\")\n",
    "while int(dt.datetime.now(pytz.timezone('Asia/Kolkata')).hour) < 15:\n",
    "    w = placeOrder(kite,hist,buyModel,sellModel,tSymbol)\n",
    "    sleep(60-w) # sleep for 60 - whatever time w was running for\n",
    "    updateLastPrice() # update the last price\n",
    "    cur = json.loads(lastPrice.payload.decode('utf-8'))['last_price'] # get the latest price\n",
    "    hist[0] = cur      # replace oldest price with newest\n",
    "    hist = np.roll(hist,-1) # left shift the array\n",
    "\n",
    "print (\"TRADE DAY IS OVER\")"
   ]
  },
  {
   "cell_type": "code",
   "execution_count": null,
   "metadata": {
    "collapsed": true
   },
   "outputs": [],
   "source": []
  }
 ],
 "metadata": {
  "kernelspec": {
   "display_name": "Python [conda env:AlgoTrading]",
   "language": "python",
   "name": "conda-env-AlgoTrading-py"
  },
  "language_info": {
   "codemirror_mode": {
    "name": "ipython",
    "version": 3
   },
   "file_extension": ".py",
   "mimetype": "text/x-python",
   "name": "python",
   "nbconvert_exporter": "python",
   "pygments_lexer": "ipython3",
   "version": "3.6.2"
  }
 },
 "nbformat": 4,
 "nbformat_minor": 2
}
