{
 "cells": [
  {
   "cell_type": "code",
   "execution_count": 27,
   "metadata": {
    "collapsed": true
   },
   "outputs": [],
   "source": [
    "import warnings\n",
    "warnings.filterwarnings(\"ignore\") # suppress h5py deprecation warning\n",
    "\n",
    "import os\n",
    "import backtrader as bt\n",
    "import numpy as np\n",
    "from gym import spaces\n",
    "\n",
    "from btgym import BTgymEnv, BTgymDataset, BTgymRandomDataDomain\n",
    "from btgym.algorithms import Launcher\n",
    "\n",
    "from btgym.research.gps.aac import GuidedAAC\n",
    "from btgym.research.gps.policy import GuidedPolicy_0_0\n",
    "from btgym.research.gps.strategy import GuidedStrategy_0_0, ExpertObserver\n",
    "\n",
    "from btgym.research.verbose_env_runner import VerboseEnvRunnerFn"
   ]
  },
  {
   "cell_type": "code",
   "execution_count": 28,
   "metadata": {
    "collapsed": true
   },
   "outputs": [],
   "source": [
    "engine = bt.Cerebro()\n",
    "\n",
    "engine.addstrategy(\n",
    "    GuidedStrategy_0_0,\n",
    "    drawdown_call=10, # max % to loose, in percent of initial cash\n",
    "    target_call=10,  # max % to win, same\n",
    "    skip_frame=10,\n",
    "    gamma=0.99,\n",
    "    state_ext_scale=np.linspace(4e3, 1e3, num=6),\n",
    "    reward_scale=7,\n",
    "    expert_config=  # see btgym.research.gps.oracle.Oracle class for details\n",
    "        {\n",
    "            'time_threshold': 5,\n",
    "            'pips_threshold': 10, \n",
    "            'pips_scale': 1e-4,\n",
    "            'kernel_size': 10,\n",
    "            'kernel_stddev': 1,\n",
    "        },\n",
    ")\n",
    "\n",
    "engine.addobserver(ExpertObserver)\n",
    "brokerageCom = ((0.0001 +0.0000325)*0.18) + (0.0001 +0.0000325) + 0.00025 + 0.00002\n",
    "engine.broker.setcash(1000000)\n",
    "engine.broker.setcommission(commission=brokerageCom, leverage= 2) # commisssion to imitate spread\n",
    "engine.addsizer(bt.sizers.SizerFix, stake=15000)  "
   ]
  },
  {
   "cell_type": "code",
   "execution_count": 29,
   "metadata": {
    "collapsed": true
   },
   "outputs": [],
   "source": [
    "dataset = BTgymRandomDataDomain(  \n",
    "    #filename=data_m1_6_month,\n",
    "    #filename='./data/DAT_ASCII_EURUSD_M1_2016.csv', # full year\n",
    "    filename='btgym/examples/data/GMRINFRA.csv',  # simple sine \n",
    "\n",
    "    trial_params=dict(\n",
    "        start_weekdays={0, 1, 2, 3, 4},\n",
    "        sample_duration={'days': 5, 'hours': 0, 'minutes': 0},\n",
    "        start_00=False,\n",
    "        time_gap={'days': 2, 'hours': 10},\n",
    "        test_period={'days': 0, 'hours': 0, 'minutes': 0},\n",
    "    ),\n",
    "    episode_params=dict(\n",
    "        start_weekdays={0, 1, 2, 3, 4,},\n",
    "        sample_duration={'days': 1, 'hours': 0, 'minutes': 0},\n",
    "        start_00=False,\n",
    "        time_gap={'days': 1, 'hours': 0},\n",
    "    ),\n",
    ")\n"
   ]
  },
  {
   "cell_type": "code",
   "execution_count": 30,
   "metadata": {
    "collapsed": true
   },
   "outputs": [],
   "source": [
    "env_config = dict(\n",
    "    class_ref=BTgymEnv, \n",
    "    kwargs=dict(\n",
    "        dataset=dataset,\n",
    "        engine=engine,\n",
    "        render_modes=['episode', 'human', 'external', 'internal'],\n",
    "        render_state_as_image=True,\n",
    "        render_ylabel='OHL_diff. / Internals',\n",
    "        render_size_episode=(12,8),\n",
    "        render_size_human=(9, 4),\n",
    "        render_size_state=(11, 3),\n",
    "        render_dpi=75,\n",
    "        port=5000,\n",
    "        data_port=4999,\n",
    "        connect_timeout=90,\n",
    "        verbose=0,\n",
    "    )\n",
    ")\n",
    "\n",
    "cluster_config = dict(\n",
    "    host='127.0.0.1',\n",
    "    port=12230,\n",
    "    num_workers=1,  # Set according CPU's available or so\n",
    "    num_ps=1,\n",
    "    num_envs=1,\n",
    "    log_dir=os.path.expanduser('~/tmp/gps'),\n",
    ")\n",
    "policy_config = dict(\n",
    "    class_ref=GuidedPolicy_0_0,\n",
    "    kwargs={\n",
    "        'lstm_layers': (256, 256),\n",
    "        'lstm_2_init_period': 50,\n",
    "        'conv_2d_layer_config': (\n",
    "             (32, (3, 1), (2, 1)),\n",
    "             (32, (3, 1), (2, 1)),\n",
    "             (64, (3, 1), (2, 1)),\n",
    "             (64, (3, 1), (2, 1))\n",
    "         ),\n",
    "        'encode_internal_state': False,\n",
    "    }\n",
    ")\n",
    "\n",
    "trainer_config = dict(\n",
    "    class_ref=GuidedAAC,\n",
    "    kwargs=dict(\n",
    "        opt_learn_rate=1e-4, # scalar or random log-uniform \n",
    "        opt_end_learn_rate=1e-5,\n",
    "        opt_decay_steps=20*10**6,\n",
    "        model_gamma=0.99,\n",
    "        model_gae_lambda=1.0,\n",
    "        model_beta=0.01, # Entropy reg, scalar or random log-uniform\n",
    "        aac_lambda=1.0, # main a3c loss weight\n",
    "        guided_lambda=1.0,  # Imitation loss weight\n",
    "        rollout_length=20,\n",
    "        time_flat=True,\n",
    "        use_value_replay=False,\n",
    "        episode_train_test_cycle=[1,0],\n",
    "        model_summary_freq=100,\n",
    "        episode_summary_freq=5,\n",
    "        env_render_freq=5,\n",
    "    )\n",
    ")"
   ]
  },
  {
   "cell_type": "code",
   "execution_count": null,
   "metadata": {},
   "outputs": [
    {
     "name": "stdout",
     "output_type": "stream",
     "text": [
      "</home/s2c/tmp/gps> already exists. Override[y/n]? y\n",
      "[2018-02-26 14:08:37.775470] NOTICE: LauncherShell: Files in </home/s2c/tmp/gps> purged.\n",
      "[2018-02-26 14:08:42.268224] WARNING: RndDataDomain_0: Found 37995 duplicated date_time records in <btgym/examples/data/GMRINFRA.csv>.                     Removed all but first occurrences.\n",
      "\n",
      "********************************************************************************************\n",
      "**  Press `Ctrl-C` or jupyter:[Kernel]->[Interrupt] to stop training and close launcher.  **\n",
      "********************************************************************************************\n",
      "\n",
      "[2018-02-26 14:08:43.368236] NOTICE: GuidedA3C_0: learn_rate: 0.000100, entropy_beta: 0.010000\n",
      "[2018-02-26 14:08:47.144598] NOTICE: GuidedA3C_0: aac_lambda: 1.000000, guided_lambda: 1.000000\n",
      "WARNING:tensorflow:From /home/s2c/go/src/kite-go/btgym/btgym/algorithms/worker.py:244: Supervisor.__init__ (from tensorflow.python.training.supervisor) is deprecated and will be removed in a future version.\n",
      "Instructions for updating:\n",
      "Please switch to tf.train.MonitoredTrainingSession\n"
     ]
    },
    {
     "name": "stderr",
     "output_type": "stream",
     "text": [
      "WARNING:tensorflow:From /home/s2c/go/src/kite-go/btgym/btgym/algorithms/worker.py:244: Supervisor.__init__ (from tensorflow.python.training.supervisor) is deprecated and will be removed in a future version.\n",
      "Instructions for updating:\n",
      "Please switch to tf.train.MonitoredTrainingSession\n"
     ]
    },
    {
     "name": "stdout",
     "output_type": "stream",
     "text": [
      "INFO:tensorflow:Starting standard services.\n"
     ]
    },
    {
     "name": "stderr",
     "output_type": "stream",
     "text": [
      "INFO:tensorflow:Starting standard services.\n"
     ]
    },
    {
     "name": "stdout",
     "output_type": "stream",
     "text": [
      "INFO:tensorflow:Saving checkpoint to path /home/s2c/tmp/gps/train/model.ckpt\n"
     ]
    },
    {
     "name": "stderr",
     "output_type": "stream",
     "text": [
      "INFO:tensorflow:Saving checkpoint to path /home/s2c/tmp/gps/train/model.ckpt\n"
     ]
    },
    {
     "name": "stdout",
     "output_type": "stream",
     "text": [
      "INFO:tensorflow:Starting queue runners.\n"
     ]
    },
    {
     "name": "stderr",
     "output_type": "stream",
     "text": [
      "INFO:tensorflow:Starting queue runners.\n"
     ]
    },
    {
     "name": "stdout",
     "output_type": "stream",
     "text": [
      "INFO:tensorflow:global/global_step/sec: 0\n"
     ]
    },
    {
     "name": "stderr",
     "output_type": "stream",
     "text": [
      "INFO:tensorflow:global/global_step/sec: 0\n"
     ]
    },
    {
     "name": "stdout",
     "output_type": "stream",
     "text": [
      "[2018-02-26 14:08:54.464030] NOTICE: Worker_0: started training at step: 0\n",
      "[2018-02-26 14:08:54.560879] ERROR: RndDataDomain_0: Quitting after 101 sampling attempts.Hint: check sampling params / dataset consistency.\n"
     ]
    },
    {
     "name": "stderr",
     "output_type": "stream",
     "text": [
      "Process BTgymDataFeedServer-47:1:\n",
      "Traceback (most recent call last):\n",
      "  File \"/home/s2c/anaconda3/envs/AlgoTrading/lib/python3.6/multiprocessing/process.py\", line 249, in _bootstrap\n",
      "    self.run()\n",
      "  File \"/home/s2c/go/src/kite-go/btgym/btgym/dataserver.py\", line 155, in run\n",
      "    self.get_data()\n",
      "  File \"/home/s2c/go/src/kite-go/btgym/btgym/dataserver.py\", line 94, in get_data\n",
      "    self.pre_sample = self.dataset.sample(**self.pre_sample_config)\n",
      "  File \"/home/s2c/go/src/kite-go/btgym/btgym/datafeed/base.py\", line 454, in sample\n",
      "    return self._sample(**kwargs)\n",
      "  File \"/home/s2c/go/src/kite-go/btgym/btgym/datafeed/base.py\", line 508, in _sample\n",
      "    name='train_' + self.sample_name\n",
      "  File \"/home/s2c/go/src/kite-go/btgym/btgym/datafeed/base.py\", line 756, in _sample_interval\n",
      "    raise RuntimeError(msg)\n",
      "RuntimeError: Quitting after 101 sampling attempts.Hint: check sampling params / dataset consistency.\n"
     ]
    },
    {
     "name": "stdout",
     "output_type": "stream",
     "text": [
      "[2018-02-26 14:09:54.523489] ERROR: BTgymServer_0: BtgymServer_sampling_attempt: data_server unreachable with status: <receive_failed_due_to_connect_timeout>.\n"
     ]
    },
    {
     "name": "stderr",
     "output_type": "stream",
     "text": [
      "Process BTgymServer-47:2:\n",
      "Traceback (most recent call last):\n",
      "  File \"/home/s2c/anaconda3/envs/AlgoTrading/lib/python3.6/multiprocessing/process.py\", line 249, in _bootstrap\n",
      "    self.run()\n",
      "  File \"/home/s2c/go/src/kite-go/btgym/btgym/server.py\", line 498, in run\n",
      "    trial_sample, trial_stat, dataset_stat = self.get_data(**sample_config['trial_config'])\n",
      "  File \"/home/s2c/go/src/kite-go/btgym/btgym/server.py\", line 305, in get_data\n",
      "    raise ConnectionError(msg)\n",
      "ConnectionError: BtgymServer_sampling_attempt: data_server unreachable with status: <receive_failed_due_to_connect_timeout>.\n"
     ]
    }
   ],
   "source": [
    "launcher = Launcher(\n",
    "    cluster_config=cluster_config,\n",
    "    env_config=env_config,\n",
    "    trainer_config=trainer_config,\n",
    "    policy_config=policy_config,\n",
    "    test_mode=False,\n",
    "    max_env_steps=100*10**6,\n",
    "    root_random_seed=0,\n",
    "    purge_previous=0,  # ask to override previously saved model and logs\n",
    "    verbose=0,\n",
    ")\n",
    "\n",
    "# Train it:\n",
    "launcher.run()"
   ]
  },
  {
   "cell_type": "code",
   "execution_count": null,
   "metadata": {
    "collapsed": true
   },
   "outputs": [],
   "source": []
  }
 ],
 "metadata": {
  "kernelspec": {
   "display_name": "Python [conda env:AlgoTrading]",
   "language": "python",
   "name": "conda-env-AlgoTrading-py"
  },
  "language_info": {
   "codemirror_mode": {
    "name": "ipython",
    "version": 3
   },
   "file_extension": ".py",
   "mimetype": "text/x-python",
   "name": "python",
   "nbconvert_exporter": "python",
   "pygments_lexer": "ipython3",
   "version": "3.6.2"
  }
 },
 "nbformat": 4,
 "nbformat_minor": 2
}
